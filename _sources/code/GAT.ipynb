{
 "cells": [
  {
   "cell_type": "markdown",
   "metadata": {
    "id": "YOT0Yd3fRG1K"
   },
   "source": [
    "# GAT実装"
   ]
  },
  {
   "cell_type": "code",
   "execution_count": null,
   "metadata": {
    "id": "YuRTKuBBdFE6"
   },
   "outputs": [],
   "source": []
  },
  {
   "cell_type": "markdown",
   "metadata": {
    "id": "kdXR4vHUQ2jC"
   },
   "source": [
    "元論文：Graph Attention Networks\n",
    "Petar Veličković, Guillem Cucurull, Arantxa Casanova, Adriana Romero, Pietro Liò, Yoshua Bengio\n",
    "ICLR 2018\n",
    "\n",
    "https://arxiv.org/abs/1609.02907\n",
    "参考にしたコード：https://github.com/Diego999/pyGAT"
   ]
  },
  {
   "cell_type": "markdown",
   "metadata": {
    "id": "gL5eSgD_azle"
   },
   "source": [
    "全体の流れ\n",
    "\n",
    "0.   事前にcora.contentとcora.citesをダウンロードして/content/drive/My Drive/Colab Notebooks/に置いてください．\n",
    "1.   ライブラリのインストール\n",
    "2.   汎用関数の定義\n",
    "3.   GATモデル定義 (NN実装がわかる人はここの参照のみで十分)\n",
    "4.   グラフデータ読み込み\n",
    "5.   学習準備\n",
    "6.   モデル学\n",
    "7.   テスト精度検証\n",
    "8.   結果の描画\n"
   ]
  },
  {
   "cell_type": "markdown",
   "metadata": {
    "id": "wIic0qiuRNsM"
   },
   "source": [
    "# ライブラリのインストール"
   ]
  },
  {
   "cell_type": "code",
   "execution_count": null,
   "metadata": {
    "id": "6pk9fS61QtNb"
   },
   "outputs": [],
   "source": [
    "import torch\n",
    "import torch.nn as nn\n",
    "import torch.nn.functional as F\n",
    "import matplotlib.pyplot as plt\n",
    "from sklearn.manifold import TSNE\n",
    "import time\n",
    "import numpy as np\n",
    "import scipy.sparse as sparse"
   ]
  },
  {
   "cell_type": "code",
   "execution_count": null,
   "metadata": {
    "colab": {
     "base_uri": "https://localhost:8080/"
    },
    "id": "cah2QnbMUtmj",
    "outputId": "0b8300d8-f1d3-414e-ac05-37a8307c82c3"
   },
   "outputs": [
    {
     "name": "stdout",
     "output_type": "stream",
     "text": [
      "Mounted at /content/drive\n"
     ]
    }
   ],
   "source": [
    "from google.colab import drive\n",
    "drive.mount('/content/drive')"
   ]
  },
  {
   "cell_type": "markdown",
   "metadata": {
    "id": "SreUdfkW4SOW"
   },
   "source": [
    "# 汎用関数の定義"
   ]
  },
  {
   "cell_type": "code",
   "execution_count": null,
   "metadata": {
    "id": "Y32W_NUKR6Lp"
   },
   "outputs": [],
   "source": [
    "def load_data():\n",
    "    print(\"Loading Cora dataset...\")\n",
    "    raw_nodes_data = np.genfromtxt('/content/drive/My Drive/Colab Notebooks/cora.content', dtype=\"str\")\n",
    "    print(raw_nodes_data)\n",
    "    raw_node_ids = raw_nodes_data[:, 0].astype('int32')  # 各行の一列目に格納されてるノードIDを抽出\n",
    "    #print(raw_node_ids)\n",
    "    raw_node_labels = raw_nodes_data[:, -1]# 各行の最終列に格納されてるラベルを抽出．このラベルが予測ターゲット\n",
    "    #print(raw_node_labels)\n",
    "\n",
    "    unique = list(set(raw_node_labels))\n",
    "    #print(unique)\n",
    "    labels_enumerated = np.array([unique.index(label) for label in raw_node_labels])\n",
    "    #print(labels_enumerated)\n",
    "    node_features = sparse.csr_matrix(raw_nodes_data[:, 1:-1], dtype=\"float32\")\n",
    "    #print(node_features)\n",
    "\n",
    "    ids_ordered = {raw_id: order for order, raw_id in enumerate(raw_node_ids)} #実際のノードIDを0から節点数-1に対応付け\n",
    "    #print(ids_ordered)\n",
    "    raw_edges_data = np.genfromtxt('/content/drive/My Drive/Colab Notebooks/cora.cites', dtype=\"int32\")\n",
    "    #print(raw_edges_data)\n",
    "    edges = np.array(list(map(ids_ordered.get, raw_edges_data.flatten())), dtype='int32').reshape(raw_edges_data.shape) # 実際のノードIDを変換. reshapeでデータ構造を元の枝ファイルと同様に変更．\n",
    "    #print(edges)\n",
    "\n",
    "    adj = sparse.coo_matrix((np.ones(edges.shape[0]), (edges[:, 0], edges[:, 1])),\n",
    "                            shape=(labels_enumerated.shape[0], labels_enumerated.shape[0]),\n",
    "                            dtype=np.float32)\n",
    "    #print(adj)\n",
    "\n",
    "    adj = adj + adj.T.multiply(adj.T > adj) #隣接行列を対象に変更 (つまり，無向グラフに変換)\n",
    "    #print(adj)\n",
    "\n",
    "    adj = adj + sparse.eye(adj.shape[0]) #対角成分に1を挿入\n",
    "\n",
    "    node_degrees = np.array(adj.sum(1)) #列毎の総和を計算する（つまり，次数を計算する）\n",
    "    #print(node_degrees)\n",
    "\n",
    "    node_degrees = np.power(node_degrees, -0.5).flatten()\n",
    "    #print(node_degrees)\n",
    "\n",
    "    degree_matrix = sparse.diags(node_degrees, dtype=np.float32)\n",
    "    print(degree_matrix)\n",
    "\n",
    "    adj = degree_matrix @ adj @ degree_matrix #行列の積を計算．\n",
    "    #torch.spmm(degree_matrix,torch.spmm(adj,degree_matrix))\n",
    "\n",
    "    print(adj)\n",
    "\n",
    "    features = torch.FloatTensor(node_features.toarray())\n",
    "    labels = torch.LongTensor(labels_enumerated)\n",
    "    adj = torch.FloatTensor(np.array(adj.todense()))\n",
    "\n",
    "    return features, labels, adj, edges"
   ]
  },
  {
   "cell_type": "code",
   "execution_count": null,
   "metadata": {
    "id": "C7AQDD874p7L"
   },
   "outputs": [],
   "source": [
    "def visualize_embedding_tSNE(labels, y_pred, num_classes):\n",
    "\n",
    "    cora_label_to_color_map = {0: \"red\", 1: \"blue\", 2: \"green\", 3: \"orange\", 4: \"yellow\", 5: \"pink\", 6: \"gray\"}\n",
    "\n",
    "    node_labels = labels.cpu().numpy()\n",
    "    out_features = y_pred.detach().cpu().numpy()\n",
    "    t_sne_embeddings = TSNE(n_components=2, perplexity=30, method='barnes_hut').fit_transform(out_features)\n",
    "\n",
    "    plt.figure()\n",
    "    for class_id in range(num_classes):\n",
    "        plt.scatter(t_sne_embeddings[node_labels == class_id, 0],\n",
    "                    t_sne_embeddings[node_labels == class_id, 1], s=20,\n",
    "                    color=cora_label_to_color_map[class_id],\n",
    "                    edgecolors='black', linewidths=0.15)\n",
    "\n",
    "    plt.axis(\"off\")\n",
    "    plt.title(\"Visualizing t-SNE\")\n",
    "    plt.show()"
   ]
  },
  {
   "cell_type": "markdown",
   "metadata": {
    "id": "_HhyeJ8cbi4k"
   },
   "source": [
    "# モデル定義"
   ]
  },
  {
   "cell_type": "code",
   "execution_count": null,
   "metadata": {
    "id": "Icbs8olpQ0o6"
   },
   "outputs": [],
   "source": [
    "class GraphAttentionLayer(nn.Module):\n",
    "\n",
    "    def __init__(self, in_features, out_features, dropout, alpha, final=False):\n",
    "        super(GraphAttentionLayer, self).__init__()\n",
    "        self.dropout = dropout\n",
    "        self.in_features = in_features\n",
    "        self.out_features = out_features\n",
    "        self.alpha = alpha\n",
    "        self.final = final\n",
    "\n",
    "        self.W = nn.Parameter(torch.empty(size=(in_features, out_features)))\n",
    "        nn.init.xavier_uniform_(self.W.data, gain=1.414) # Xavierの方法により初期化．どんな方法でもよい\n",
    "        self.a = nn.Parameter(torch.empty(size=(2*out_features, 1)))\n",
    "        nn.init.xavier_uniform_(self.a.data, gain=1.414) # Xavierの方法により初期化．どんな方法でもよい\n",
    "\n",
    "        self.leakyrelu = nn.LeakyReLU(self.alpha) # Attention計算用のLeakyReLu関数\n",
    "\n",
    "    def forward(self, h, adj): #hはNNへの入力行列\n",
    "        Wh = torch.mm(h, self.W)\n",
    "        e = self._prepare_attentional_mechanism_input(Wh) \n",
    "\n",
    "        zero_vec = -9e15*torch.ones_like(e) \n",
    "        attention = torch.where(adj > 0, e, zero_vec) # 枝がないところは attentionを0にする\n",
    "        attention = F.softmax(attention, dim=1) # dim=1は行単位でのsoftmax\n",
    "        attention = F.dropout(attention, self.dropout, training=self.training)\n",
    "        h_prime = torch.matmul(attention, Wh) # attentionの値を掛けた値の和を出力にする\n",
    "\n",
    "        if self.final:\n",
    "            return h_prime #最終層の場合, 活性化関数無し\n",
    "        else:\n",
    "            return F.elu(h_prime) #最終層以外は活性化関数 elu\n",
    "\n",
    "    def _prepare_attentional_mechanism_input(self, Wh):\n",
    "\n",
    "        Wh1 = torch.matmul(Wh, self.a[:self.out_features, :]) #左側 (N,1)次元行列\n",
    "        Wh2 = torch.matmul(Wh, self.a[self.out_features:, :]) #右側 (N,1)次元行列\n",
    "        #print(Wh1)\n",
    "        #print(Wh2)\n",
    "        e = Wh1 + Wh2.T # broadcast add. (N,N)次元行列. 全ての節点ペアのeを計算\n",
    "        #print(e)\n",
    "\n",
    "        return self.leakyrelu(e)\n",
    "\n",
    "    def __repr__(self):\n",
    "        return self.__class__.__name__ + ' (' + str(self.in_features) + ' -> ' + str(self.out_features) + ')'\n"
   ]
  },
  {
   "cell_type": "markdown",
   "metadata": {
    "id": "6GlboP_1QwdZ"
   },
   "source": []
  },
  {
   "cell_type": "code",
   "execution_count": null,
   "metadata": {
    "id": "1OFbuEB5RyNY"
   },
   "outputs": [],
   "source": [
    "class GAT(nn.Module):\n",
    "    def __init__(self, nfeat, nhid, nclass, dropout, alpha, nheads):\n",
    "        super(GAT, self).__init__()\n",
    "        self.dropout = dropout\n",
    "\n",
    "        self.attentions = [GraphAttentionLayer(nfeat, nhid, dropout=dropout, alpha=alpha, final=False) for _ in range(nheads)]\n",
    "        for i, attention in enumerate(self.attentions):\n",
    "            self.add_module('attention_{}'.format(i), attention) #layerを定義\n",
    "\n",
    "        self.out_att = GraphAttentionLayer(nhid * nheads, nclass, dropout=dropout, alpha=alpha, final=True)\n",
    "\n",
    "    def forward(self, x, adj):\n",
    "        x = F.dropout(x, self.dropout, training=self.training)\n",
    "        x = torch.cat([att(x, adj) for att in self.attentions], dim=1)\n",
    "        x = F.dropout(x, self.dropout, training=self.training)\n",
    "        x = self.out_att(x, adj)\n",
    "        return F.log_softmax(x, dim=1)"
   ]
  },
  {
   "cell_type": "markdown",
   "metadata": {
    "id": "pJbodD_mbtN6"
   },
   "source": [
    "# グラフデータ読み込み"
   ]
  },
  {
   "cell_type": "markdown",
   "metadata": {
    "id": "Uqd1V1XNSXvj"
   },
   "source": [
    "グラフ読み込み"
   ]
  },
  {
   "cell_type": "code",
   "execution_count": null,
   "metadata": {
    "colab": {
     "base_uri": "https://localhost:8080/"
    },
    "id": "iCHWqvnDGLkT",
    "outputId": "a4695261-312a-4fcf-8759-fa6ac0c2231c"
   },
   "outputs": [
    {
     "name": "stdout",
     "output_type": "stream",
     "text": [
      "Loading Cora dataset...\n",
      "[['31336' '0' '0' ... '0' '0' 'Neural_Networks']\n",
      " ['1061127' '0' '0' ... '0' '0' 'Rule_Learning']\n",
      " ['1106406' '0' '0' ... '0' '0' 'Reinforcement_Learning']\n",
      " ...\n",
      " ['1128978' '0' '0' ... '0' '0' 'Genetic_Algorithms']\n",
      " ['117328' '0' '0' ... '0' '0' 'Case_Based']\n",
      " ['24043' '0' '0' ... '0' '0' 'Neural_Networks']]\n",
      "  (0, 0)\t0.4082483\n",
      "  (1, 1)\t0.70710677\n",
      "  (2, 2)\t0.4472136\n",
      "  (3, 3)\t0.5\n",
      "  (4, 4)\t0.70710677\n",
      "  (5, 5)\t0.57735026\n",
      "  (6, 6)\t0.57735026\n",
      "  (7, 7)\t0.70710677\n",
      "  (8, 8)\t0.4082483\n",
      "  (9, 9)\t0.4472136\n",
      "  (10, 10)\t0.4082483\n",
      "  (11, 11)\t0.57735026\n",
      "  (12, 12)\t0.57735026\n",
      "  (13, 13)\t0.5\n",
      "  (14, 14)\t0.2236068\n",
      "  (15, 15)\t0.30151135\n",
      "  (16, 16)\t0.4472136\n",
      "  (17, 17)\t0.70710677\n",
      "  (18, 18)\t0.35355338\n",
      "  (19, 19)\t0.57735026\n",
      "  (20, 20)\t0.4082483\n",
      "  (21, 21)\t0.4472136\n",
      "  (22, 22)\t0.4082483\n",
      "  (23, 23)\t0.57735026\n",
      "  (24, 24)\t0.57735026\n",
      "  :\t:\n",
      "  (2683, 2683)\t0.4472136\n",
      "  (2684, 2684)\t0.70710677\n",
      "  (2685, 2685)\t0.57735026\n",
      "  (2686, 2686)\t0.5\n",
      "  (2687, 2687)\t0.5\n",
      "  (2688, 2688)\t0.4472136\n",
      "  (2689, 2689)\t0.57735026\n",
      "  (2690, 2690)\t0.57735026\n",
      "  (2691, 2691)\t0.70710677\n",
      "  (2692, 2692)\t0.5\n",
      "  (2693, 2693)\t0.70710677\n",
      "  (2694, 2694)\t0.4472136\n",
      "  (2695, 2695)\t0.5\n",
      "  (2696, 2696)\t0.4472136\n",
      "  (2697, 2697)\t0.4472136\n",
      "  (2698, 2698)\t0.5\n",
      "  (2699, 2699)\t0.70710677\n",
      "  (2700, 2700)\t0.57735026\n",
      "  (2701, 2701)\t0.57735026\n",
      "  (2702, 2702)\t0.57735026\n",
      "  (2703, 2703)\t0.5\n",
      "  (2704, 2704)\t0.57735026\n",
      "  (2705, 2705)\t0.4472136\n",
      "  (2706, 2706)\t0.4472136\n",
      "  (2707, 2707)\t0.5\n",
      "  (0, 0)\t0.16666667879725594\n",
      "  (0, 8)\t0.16666667879725594\n",
      "  (0, 14)\t0.09128709514657274\n",
      "  (0, 258)\t0.11785113237134937\n",
      "  (0, 435)\t0.16666667879725594\n",
      "  (0, 544)\t0.18257419029314548\n",
      "  (1, 1)\t0.4999999828857291\n",
      "  (1, 344)\t0.12499999572143228\n",
      "  (2, 2)\t0.1999999952104794\n",
      "  (2, 410)\t0.18257419029314548\n",
      "  (2, 471)\t0.1581138784091909\n",
      "  (2, 552)\t0.06819943435231757\n",
      "  (2, 565)\t0.05031545931958359\n",
      "  (3, 3)\t0.25\n",
      "  (3, 197)\t0.22360679507255554\n",
      "  (3, 463)\t0.20412415266036987\n",
      "  (3, 601)\t0.20412415266036987\n",
      "  (4, 4)\t0.4999999828857291\n",
      "  (4, 170)\t0.4082482761496564\n",
      "  (5, 5)\t0.33333332136784577\n",
      "  (5, 490)\t0.2041241380748282\n",
      "  (5, 2164)\t0.23570226474269873\n",
      "  (6, 6)\t0.33333332136784577\n",
      "  (6, 251)\t0.192450092011196\n",
      "  (6, 490)\t0.2041241380748282\n",
      "  :\t:\n",
      "  (2701, 2701)\t0.33333332136784577\n",
      "  (2702, 881)\t0.14907119430171534\n",
      "  (2702, 2624)\t0.2041241380748282\n",
      "  (2702, 2702)\t0.33333332136784577\n",
      "  (2703, 1221)\t0.25\n",
      "  (2703, 1409)\t0.1767766922712326\n",
      "  (2703, 2200)\t0.22360679507255554\n",
      "  (2703, 2703)\t0.25\n",
      "  (2704, 209)\t0.28867512941360474\n",
      "  (2704, 2407)\t0.33333332136784577\n",
      "  (2704, 2704)\t0.33333332136784577\n",
      "  (2705, 1784)\t0.1490712011577049\n",
      "  (2705, 1839)\t0.22360679507255554\n",
      "  (2705, 1840)\t0.25819888202132546\n",
      "  (2705, 2216)\t0.22360679507255554\n",
      "  (2705, 2705)\t0.1999999952104794\n",
      "  (2706, 1046)\t0.18257419029314548\n",
      "  (2706, 1138)\t0.16903084614948405\n",
      "  (2706, 1640)\t0.16903084614948405\n",
      "  (2706, 1752)\t0.3162277568183818\n",
      "  (2706, 2706)\t0.1999999952104794\n",
      "  (2707, 774)\t0.25\n",
      "  (2707, 1389)\t0.22360679507255554\n",
      "  (2707, 2344)\t0.3535533845424652\n",
      "  (2707, 2707)\t0.25\n"
     ]
    }
   ],
   "source": [
    "features, labels, adj, edges = load_data()"
   ]
  },
  {
   "cell_type": "code",
   "execution_count": null,
   "metadata": {
    "colab": {
     "base_uri": "https://localhost:8080/"
    },
    "id": "YnC9YsmrGuK_",
    "outputId": "5d643d27-9c3f-4bf4-ad68-c3d0d6c66256"
   },
   "outputs": [
    {
     "name": "stdout",
     "output_type": "stream",
     "text": [
      "tensor([[0., 0., 0.,  ..., 0., 0., 0.],\n",
      "        [0., 0., 0.,  ..., 0., 0., 0.],\n",
      "        [0., 0., 0.,  ..., 0., 0., 0.],\n",
      "        ...,\n",
      "        [0., 0., 0.,  ..., 0., 0., 0.],\n",
      "        [0., 0., 0.,  ..., 0., 0., 0.],\n",
      "        [0., 0., 0.,  ..., 0., 0., 0.]])\n",
      "tensor([2, 0, 3,  ..., 4, 6, 2])\n",
      "tensor([[0.1667, 0.0000, 0.0000,  ..., 0.0000, 0.0000, 0.0000],\n",
      "        [0.0000, 0.5000, 0.0000,  ..., 0.0000, 0.0000, 0.0000],\n",
      "        [0.0000, 0.0000, 0.2000,  ..., 0.0000, 0.0000, 0.0000],\n",
      "        ...,\n",
      "        [0.0000, 0.0000, 0.0000,  ..., 0.2000, 0.0000, 0.0000],\n",
      "        [0.0000, 0.0000, 0.0000,  ..., 0.0000, 0.2000, 0.0000],\n",
      "        [0.0000, 0.0000, 0.0000,  ..., 0.0000, 0.0000, 0.2500]])\n",
      "[[ 163  402]\n",
      " [ 163  659]\n",
      " [ 163 1696]\n",
      " ...\n",
      " [1887 2258]\n",
      " [1902 1887]\n",
      " [ 837 1686]]\n"
     ]
    }
   ],
   "source": [
    "print(features)\n",
    "print(labels)\n",
    "print(adj)\n",
    "print(edges)"
   ]
  },
  {
   "cell_type": "markdown",
   "metadata": {
    "id": "vEQNIZqib0ui"
   },
   "source": [
    "# 学習準備"
   ]
  },
  {
   "cell_type": "code",
   "execution_count": null,
   "metadata": {
    "id": "7wIusQFtG00L"
   },
   "outputs": [],
   "source": [
    "num_classes = int(labels.max().item() + 1)\n",
    "train_size_per_class=20\n",
    "validation_size=500\n",
    "test_size=1000\n",
    "classes = [ind for ind in range(num_classes)]\n",
    "train_set = []\n",
    "\n",
    "# Construct train set (indices) out of 20 samples per each class\n",
    "for class_label in classes:\n",
    "    target_indices = torch.nonzero(labels == class_label, as_tuple=False).tolist()\n",
    "    train_set += [ind[0] for ind in target_indices[:train_size_per_class]]\n",
    "\n",
    "# Extract the remaining samples\n",
    "validation_test_set = [ind for ind in range(len(labels)) if ind not in train_set]\n",
    "# Split the remaining samples into validation/test set\n",
    "validation_set = validation_test_set[:validation_size]\n",
    "test_set = validation_test_set[validation_size:validation_size+test_size]"
   ]
  },
  {
   "cell_type": "code",
   "execution_count": null,
   "metadata": {
    "colab": {
     "base_uri": "https://localhost:8080/"
    },
    "id": "1Xuz5n-sK4Ft",
    "outputId": "e81f2268-b13f-44cf-9ba6-b6ff84ec8c2e"
   },
   "outputs": [
    {
     "name": "stdout",
     "output_type": "stream",
     "text": [
      "GAT(\n",
      "  (out_att): GraphAttentionLayer (128 -> 7)\n",
      ")\n"
     ]
    }
   ],
   "source": [
    "dropout=0.2\n",
    "use_bias=False\n",
    "hidden_dim=32\n",
    "nb_heads=4\n",
    "alpha = 0.2\n",
    "model = GAT(nfeat=features.shape[1], \n",
    "                nhid=hidden_dim, \n",
    "                nclass=num_classes, \n",
    "                dropout=dropout, \n",
    "                nheads=nb_heads, \n",
    "                alpha=alpha)\n",
    "print(model)"
   ]
  },
  {
   "cell_type": "code",
   "execution_count": null,
   "metadata": {
    "id": "5sf7t7i5K73R"
   },
   "outputs": [],
   "source": [
    "if torch.cuda.is_available(): #cudaが使えるなら，GPUで処理\n",
    "  model.cuda()\n",
    "  adj = adj.cuda()\n",
    "  features = features.cuda()\n",
    "  labels = labels.cuda()\n",
    "\n",
    "optimizer = torch.optim.Adam(model.parameters(), lr=0.0001,\n",
    "                          weight_decay=0.0001)\n",
    "criterion = nn.CrossEntropyLoss()\n"
   ]
  },
  {
   "cell_type": "code",
   "execution_count": null,
   "metadata": {
    "id": "nNfairSCM19b"
   },
   "outputs": [],
   "source": [
    "def accuracy(output, labels):\n",
    "    y_pred = output.max(1)[1].type_as(labels)\n",
    "    correct = y_pred.eq(labels).double()\n",
    "    correct = correct.sum()\n",
    "    return correct / len(labels)"
   ]
  },
  {
   "cell_type": "markdown",
   "metadata": {
    "id": "Ku5lP2rAb8zk"
   },
   "source": [
    "# モデル学習"
   ]
  },
  {
   "cell_type": "code",
   "execution_count": null,
   "metadata": {
    "colab": {
     "background_save": true,
     "base_uri": "https://localhost:8080/"
    },
    "id": "0bFqbXUgL_He",
    "outputId": "39ce2107-98cd-4377-a5f3-432321950f89"
   },
   "outputs": [
    {
     "name": "stdout",
     "output_type": "stream",
     "text": [
      "Epoch:    0 | Train loss: 1.910 | Train acc: 0.11 | Val loss: 1.937 | Val acc: 0.09\n",
      "Epoch:   10 | Train loss: 1.790 | Train acc: 0.30 | Val loss: 1.862 | Val acc: 0.20\n",
      "Epoch:   20 | Train loss: 1.718 | Train acc: 0.44 | Val loss: 1.823 | Val acc: 0.32\n",
      "Epoch:   30 | Train loss: 1.635 | Train acc: 0.61 | Val loss: 1.751 | Val acc: 0.43\n",
      "Epoch:   40 | Train loss: 1.530 | Train acc: 0.74 | Val loss: 1.686 | Val acc: 0.55\n",
      "Epoch:   50 | Train loss: 1.467 | Train acc: 0.81 | Val loss: 1.650 | Val acc: 0.60\n",
      "Epoch:   60 | Train loss: 1.397 | Train acc: 0.84 | Val loss: 1.596 | Val acc: 0.65\n",
      "Epoch:   70 | Train loss: 1.311 | Train acc: 0.82 | Val loss: 1.534 | Val acc: 0.67\n",
      "Epoch:   80 | Train loss: 1.222 | Train acc: 0.88 | Val loss: 1.509 | Val acc: 0.70\n",
      "Epoch:   90 | Train loss: 1.195 | Train acc: 0.89 | Val loss: 1.437 | Val acc: 0.72\n",
      "Epoch:  100 | Train loss: 1.121 | Train acc: 0.91 | Val loss: 1.421 | Val acc: 0.71\n",
      "Epoch:  110 | Train loss: 1.119 | Train acc: 0.91 | Val loss: 1.368 | Val acc: 0.73\n",
      "Epoch:  120 | Train loss: 1.004 | Train acc: 0.90 | Val loss: 1.330 | Val acc: 0.74\n",
      "Epoch:  130 | Train loss: 0.938 | Train acc: 0.91 | Val loss: 1.293 | Val acc: 0.73\n",
      "Epoch:  140 | Train loss: 0.891 | Train acc: 0.94 | Val loss: 1.248 | Val acc: 0.74\n",
      "Epoch:  150 | Train loss: 0.871 | Train acc: 0.93 | Val loss: 1.244 | Val acc: 0.73\n",
      "Epoch:  160 | Train loss: 0.820 | Train acc: 0.94 | Val loss: 1.203 | Val acc: 0.76\n",
      "Epoch:  170 | Train loss: 0.781 | Train acc: 0.92 | Val loss: 1.166 | Val acc: 0.75\n",
      "Epoch:  180 | Train loss: 0.751 | Train acc: 0.91 | Val loss: 1.152 | Val acc: 0.75\n",
      "Epoch:  190 | Train loss: 0.713 | Train acc: 0.96 | Val loss: 1.118 | Val acc: 0.75\n",
      "Epoch:  200 | Train loss: 0.711 | Train acc: 0.95 | Val loss: 1.086 | Val acc: 0.76\n",
      "Epoch:  210 | Train loss: 0.639 | Train acc: 0.96 | Val loss: 1.091 | Val acc: 0.74\n",
      "Epoch:  220 | Train loss: 0.568 | Train acc: 0.95 | Val loss: 1.080 | Val acc: 0.74\n",
      "Epoch:  230 | Train loss: 0.624 | Train acc: 0.92 | Val loss: 1.080 | Val acc: 0.74\n",
      "Epoch:  240 | Train loss: 0.573 | Train acc: 0.97 | Val loss: 1.025 | Val acc: 0.78\n",
      "Epoch:  250 | Train loss: 0.518 | Train acc: 0.99 | Val loss: 1.095 | Val acc: 0.75\n",
      "Epoch:  260 | Train loss: 0.488 | Train acc: 0.96 | Val loss: 1.100 | Val acc: 0.75\n",
      "Epoch:  270 | Train loss: 0.530 | Train acc: 0.95 | Val loss: 0.991 | Val acc: 0.77\n",
      "Epoch:  280 | Train loss: 0.442 | Train acc: 0.97 | Val loss: 0.970 | Val acc: 0.77\n",
      "Epoch:  290 | Train loss: 0.422 | Train acc: 0.99 | Val loss: 0.985 | Val acc: 0.76\n",
      "Total training time: 271.80 seconds\n"
     ]
    }
   ],
   "source": [
    "validation_acc = []\n",
    "validation_loss = []\n",
    "training_acc=[]\n",
    "training_loss=[]\n",
    "\n",
    "use_early_stopping=True\n",
    "patience=0.001\n",
    "\n",
    "if use_early_stopping:\n",
    "    last_min_val_loss = float('inf')\n",
    "    patience_counter = 0\n",
    "    stopped_early = False\n",
    "\n",
    "t_start = time.time()\n",
    "maxepoch=300\n",
    "for epoch in range(maxepoch):\n",
    "    optimizer.zero_grad()\n",
    "    model.train()\n",
    "\n",
    "    y_pred = model(features, adj)\n",
    "    train_loss = criterion(y_pred[train_set], labels[train_set])\n",
    "    train_acc = accuracy(y_pred[train_set], labels[train_set])\n",
    "    train_loss.backward()\n",
    "    optimizer.step()\n",
    "\n",
    "    training_loss.append(train_loss.item())\n",
    "    training_acc.append(train_acc)\n",
    "\n",
    "    with torch.no_grad():\n",
    "        model.eval()\n",
    "        val_loss = criterion(y_pred[validation_set], labels[validation_set])\n",
    "        val_acc = accuracy(y_pred[validation_set], labels[validation_set])\n",
    "\n",
    "        validation_loss.append(val_loss.item())\n",
    "        validation_acc.append(val_acc)\n",
    "\n",
    "        if use_early_stopping:\n",
    "            if val_loss < last_min_val_loss:\n",
    "                last_min_val_loss = val_loss\n",
    "                patience_counter = 0\n",
    "            else:\n",
    "                patience_counter += 1\n",
    "                if patience_counter == patience:\n",
    "                    stopped_early = True\n",
    "                    t_end = time.time()\n",
    "\n",
    "    if epoch%10 == 0: #10行毎に出力\n",
    "      print(\" | \".join([f\"Epoch: {epoch:4d}\", f\"Train loss: {train_loss.item():.3f}\",\n",
    "                      f\"Train acc: {train_acc:.2f}\",\n",
    "                      f\"Val loss: {val_loss.item():.3f}\",\n",
    "                      f\"Val acc: {val_acc:.2f}\"]))\n",
    "\n",
    "    if use_early_stopping and stopped_early:\n",
    "        break\n",
    "\n",
    "if use_early_stopping and stopped_early:\n",
    "    print(f\"EARLY STOPPING condition met. Stopped at epoch: {epoch}.\")\n",
    "else:\n",
    "    t_end = time.time()\n",
    "\n",
    "print(f\"Total training time: {t_end-t_start:.2f} seconds\")"
   ]
  },
  {
   "cell_type": "markdown",
   "metadata": {
    "id": "DG5BGRp4cLgi"
   },
   "source": [
    "# テスト精度の検証"
   ]
  },
  {
   "cell_type": "code",
   "execution_count": null,
   "metadata": {
    "colab": {
     "background_save": true
    },
    "id": "9kvWbCGINmAw",
    "outputId": "3cabe4b8-9cdb-4792-da66-11e1fccf3d8a"
   },
   "outputs": [
    {
     "name": "stdout",
     "output_type": "stream",
     "text": [
      "Test loss: 0.921  |  Test acc: 0.78\n"
     ]
    }
   ],
   "source": [
    "criterion = nn.CrossEntropyLoss()\n",
    "\n",
    "with torch.no_grad():\n",
    "    model.eval()\n",
    "    y_pred = model(features, adj)\n",
    "    test_loss = criterion(y_pred[test_set], labels[test_set])\n",
    "    test_acc = accuracy(y_pred[test_set], labels[test_set])\n",
    "\n",
    "print(f\"Test loss: {test_loss:.3f}  |  Test acc: {test_acc:.2f}\")"
   ]
  },
  {
   "cell_type": "markdown",
   "metadata": {
    "id": "vMA7lOEAcDc9"
   },
   "source": [
    "# 結果の描画"
   ]
  },
  {
   "cell_type": "markdown",
   "metadata": {
    "id": "NaXWl1RicW57"
   },
   "source": [
    "まずは，訓練データのロスと精度，開発データのロスと精度がエポック毎にどのように変化してるか見てみましょう．"
   ]
  },
  {
   "cell_type": "code",
   "execution_count": null,
   "metadata": {
    "colab": {
     "background_save": true
    },
    "id": "eCEK7TbxOA22",
    "outputId": "5d7d4b51-5b66-41a9-e2c8-2e9cc6223e20"
   },
   "outputs": [
    {
     "data": {
      "image/png": "[encoded data removed]",
      "text/plain": [
       "<Figure size 936x396 with 2 Axes>"
      ]
     },
     "metadata": {},
     "output_type": "display_data"
    }
   ],
   "source": [
    "f, axs = plt.subplots(1, 2, figsize=(13, 5.5))\n",
    "axs[0].plot(validation_loss, linewidth=2, color=\"red\")\n",
    "axs[0].plot(training_loss, linewidth=2, color=\"blue\")\n",
    "axs[0].set_title(\"Validation loss\")\n",
    "axs[0].set_ylabel(\"Cross Entropy Loss\")\n",
    "axs[0].set_xlabel(\"Epoch\")\n",
    "axs[0].grid()\n",
    "\n",
    "axs[1].plot(validation_acc, linewidth=2, color=\"red\")\n",
    "axs[1].plot(training_acc, linewidth=2, color=\"blue\")\n",
    "axs[1].set_title(\"Validation accuracy\")\n",
    "axs[1].set_ylabel(\"Acc\")\n",
    "axs[1].set_xlabel(\"Epoch\")\n",
    "axs[1].grid()\n",
    "\n",
    "plt.show()"
   ]
  },
  {
   "cell_type": "markdown",
   "metadata": {
    "id": "WRTnoxpacqlK"
   },
   "source": [
    "学習後のfeatureがラベルごとにかたまっている見てみましょう．\n",
    "ここでは，tSNEを用いて多次元データを2次元に落とし込んで可視化をします．"
   ]
  },
  {
   "cell_type": "code",
   "execution_count": null,
   "metadata": {
    "id": "euPocBI0QXXh"
   },
   "outputs": [],
   "source": [
    "visualize_embedding_tSNE(labels, y_pred, num_classes)"
   ]
  }
 ],
 "metadata": {
  "colab": {
   "provenance": []
  },
  "kernelspec": {
   "display_name": "Python 3 (ipykernel)",
   "language": "python",
   "name": "python3"
  },
  "language_info": {
   "codemirror_mode": {
    "name": "ipython",
    "version": 3
   },
   "file_extension": ".py",
   "mimetype": "text/x-python",
   "name": "python",
   "nbconvert_exporter": "python",
   "pygments_lexer": "ipython3",
   "version": "3.9.7"
  }
 },
 "nbformat": 4,
 "nbformat_minor": 1
}
