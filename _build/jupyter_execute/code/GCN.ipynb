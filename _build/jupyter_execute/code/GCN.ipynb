{
 "cells": [
  {
   "cell_type": "markdown",
   "metadata": {
    "id": "YOT0Yd3fRG1K"
   },
   "source": [
    "# GCN実装"
   ]
  },
  {
   "cell_type": "markdown",
   "metadata": {
    "id": "kdXR4vHUQ2jC"
   },
   "source": [
    "論文：Semi-Supervised Classification with Graph Convolutional Networks\n",
    "Thomas N. Kipf, Max Welling\n",
    "\n",
    "ICLR 2017 https://arxiv.org/abs/1609.02907\n",
    "\n",
    "\n",
    "参考コード：https://github.com/senadkurtisi/pytorch-GCN\n"
   ]
  },
  {
   "cell_type": "markdown",
   "metadata": {
    "id": "gL5eSgD_azle"
   },
   "source": [
    "**全体の流れ**\n",
    "\n",
    "0.   事前にcora.contentとcora.citesをダウンロードして/content/drive/My Drive/Colab Notebooks/に置いてください．\n",
    "1.   ライブラリのインストール\n",
    "2.   GCNモデル定義 (NN実装がわかる人はここの参照のみで十分)\n",
    "3.   グラフデータ読み込み\n",
    "4.   学習準備\n",
    "5.   モデル学習\n",
    "6.   テスト精度検証\n",
    "7.   結果の描画\n"
   ]
  },
  {
   "cell_type": "markdown",
   "metadata": {
    "id": "wIic0qiuRNsM"
   },
   "source": [
    "# ライブラリのインストール"
   ]
  },
  {
   "cell_type": "code",
   "execution_count": null,
   "metadata": {
    "id": "6pk9fS61QtNb"
   },
   "outputs": [],
   "source": [
    "import torch\n",
    "import torch.nn as nn\n",
    "import torch.nn.functional as F\n",
    "import matplotlib.pyplot as plt\n",
    "from sklearn.manifold import TSNE\n",
    "import time\n",
    "import numpy as np\n",
    "import scipy.sparse as sparse"
   ]
  },
  {
   "cell_type": "code",
   "execution_count": null,
   "metadata": {
    "colab": {
     "base_uri": "https://localhost:8080/"
    },
    "id": "cah2QnbMUtmj",
    "outputId": "a69a0c42-d52e-488c-8558-2dfaf3f5250b"
   },
   "outputs": [
    {
     "name": "stdout",
     "output_type": "stream",
     "text": [
      "Drive already mounted at /content/drive; to attempt to forcibly remount, call drive.mount(\"/content/drive\", force_remount=True).\n"
     ]
    }
   ],
   "source": [
    "from google.colab import drive\n",
    "drive.mount('/content/drive')"
   ]
  },
  {
   "cell_type": "markdown",
   "metadata": {
    "id": "_HhyeJ8cbi4k"
   },
   "source": [
    "# モデル定義"
   ]
  },
  {
   "cell_type": "markdown",
   "metadata": {
    "id": "GEqrUxHeLMci"
   },
   "source": [
    "GCN層を定義"
   ]
  },
  {
   "cell_type": "code",
   "execution_count": null,
   "metadata": {
    "id": "Icbs8olpQ0o6"
   },
   "outputs": [],
   "source": [
    "class GCNLayer(nn.Module):\n",
    "    def __init__(self, in_features, out_features, use_bias=True):\n",
    "        super(GCNLayer, self).__init__()\n",
    "        self.weight = nn.Parameter(torch.FloatTensor(torch.zeros(size=(in_features, out_features))))\n",
    "        if use_bias:\n",
    "            self.bias = nn.Parameter(torch.FloatTensor(torch.zeros(size=(out_features,))))\n",
    "        else:\n",
    "            self.register_parameter('bias', None)\n",
    "\n",
    "        self.initialize_weights()\n",
    "\n",
    "    def initialize_weights(self):\n",
    "        nn.init.xavier_uniform_(self.weight)\n",
    "        if self.bias is not None:\n",
    "            nn.init.zeros_(self.bias)\n",
    "\n",
    "    def forward(self, x, adj):\n",
    "        x = x @ self.weight\n",
    "        if self.bias is not None:\n",
    "            x += self.bias\n",
    "\n",
    "        return torch.sparse.mm(adj, x)"
   ]
  },
  {
   "cell_type": "markdown",
   "metadata": {
    "id": "6GlboP_1QwdZ"
   },
   "source": [
    "GCNモデルを定義．今回は2層のGCN．"
   ]
  },
  {
   "cell_type": "code",
   "execution_count": null,
   "metadata": {
    "id": "1OFbuEB5RyNY"
   },
   "outputs": [],
   "source": [
    "class GCN(nn.Module):\n",
    "    def __init__(self, node_features, hidden_dim, num_classes, dropout, use_bias=True):\n",
    "        super(GCN, self).__init__()\n",
    "        self.gcn_1 = GCNLayer(node_features, hidden_dim, use_bias)\n",
    "        self.gcn_2 = GCNLayer(hidden_dim, num_classes, use_bias)\n",
    "        self.dropout = nn.Dropout(p=dropout)\n",
    "\n",
    "    def initialize_weights(self):\n",
    "        self.gcn_1.initialize_weights()\n",
    "        self.gcn_2.initialize_weights()\n",
    "\n",
    "    def forward(self, x, adj):\n",
    "        x = F.relu(self.gcn_1(x, adj))\n",
    "        x = self.dropout(x)\n",
    "        x = self.gcn_2(x, adj)\n",
    "        return x"
   ]
  },
  {
   "cell_type": "markdown",
   "metadata": {
    "id": "s7MMYu35L1Dv"
   },
   "source": [
    "他のモデルも定義可能．以下は1層のGCNモデル．"
   ]
  },
  {
   "cell_type": "code",
   "execution_count": null,
   "metadata": {
    "id": "4NwHzO-FLgu4"
   },
   "outputs": [],
   "source": [
    "class GCN1(nn.Module):\n",
    "    def __init__(self, node_features, hidden_dim, num_classes, dropout, use_bias=True):\n",
    "        super(GCN, self).__init__()\n",
    "        self.gcn_1 = GCNLayer(node_features, hidden_dim, use_bias)\n",
    "\n",
    "    def initialize_weights(self):\n",
    "        self.gcn_1.initialize_weights()\n",
    "\n",
    "    def forward(self, x, adj):\n",
    "        x = self.gcn_1(x, adj)\n",
    "        return x"
   ]
  },
  {
   "cell_type": "markdown",
   "metadata": {
    "id": "pJbodD_mbtN6"
   },
   "source": [
    "# グラフデータ読み込み"
   ]
  },
  {
   "cell_type": "markdown",
   "metadata": {
    "id": "Uqd1V1XNSXvj"
   },
   "source": [
    "各ノードの情報cora.contentを読み込み\n",
    "データの内容を具体的に確認したい場合，print文のコメントアウトを外してください．\n"
   ]
  },
  {
   "cell_type": "code",
   "execution_count": null,
   "metadata": {
    "colab": {
     "base_uri": "https://localhost:8080/"
    },
    "id": "Y32W_NUKR6Lp",
    "outputId": "338ec8d6-6eb4-4552-da6e-626a919bb198"
   },
   "outputs": [
    {
     "name": "stdout",
     "output_type": "stream",
     "text": [
      "Loading Cora dataset...\n",
      "[['31336' '0' '0' ... '0' '0' 'Neural_Networks']\n",
      " ['1061127' '0' '0' ... '0' '0' 'Rule_Learning']\n",
      " ['1106406' '0' '0' ... '0' '0' 'Reinforcement_Learning']\n",
      " ...\n",
      " ['1128978' '0' '0' ... '0' '0' 'Genetic_Algorithms']\n",
      " ['117328' '0' '0' ... '0' '0' 'Case_Based']\n",
      " ['24043' '0' '0' ... '0' '0' 'Neural_Networks']]\n",
      "['Theory', 'Probabilistic_Methods', 'Neural_Networks', 'Reinforcement_Learning', 'Case_Based', 'Rule_Learning', 'Genetic_Algorithms']\n",
      "[2 5 3 ... 6 4 2]\n"
     ]
    }
   ],
   "source": [
    "print(\"Loading Cora dataset...\")\n",
    "raw_nodes_data = np.genfromtxt('/content/drive/My Drive/Colab Notebooks/cora.content', dtype=\"str\")\n",
    "print(raw_nodes_data)\n",
    "raw_node_ids = raw_nodes_data[:, 0].astype('int32')  # 各行の一列目に格納されてるノードIDを抽出\n",
    "#print(raw_node_ids)\n",
    "raw_node_labels = raw_nodes_data[:, -1]# 各行の最終列に格納されてるラベルを抽出．このラベルが予測ターゲット\n",
    "#print(raw_node_labels)\n",
    "\n",
    "unique = list(set(raw_node_labels))\n",
    "print(unique)\n",
    "labels_enumerated = np.array([unique.index(label) for label in raw_node_labels])\n",
    "print(labels_enumerated)\n",
    "node_features = sparse.csr_matrix(raw_nodes_data[:, 1:-1], dtype=\"float32\")\n",
    "#print(node_features)\n"
   ]
  },
  {
   "cell_type": "markdown",
   "metadata": {
    "id": "QEPTOoFMpgiA"
   },
   "source": [
    "グラフの枝情報を読み込み，隣接行列（adjacnecy matrix）を構築する．"
   ]
  },
  {
   "cell_type": "code",
   "execution_count": null,
   "metadata": {
    "colab": {
     "base_uri": "https://localhost:8080/"
    },
    "id": "dFYhgkgXOAwY",
    "outputId": "26e2f76a-294f-4c63-cd34-c720e19751ca"
   },
   "outputs": [
    {
     "name": "stdout",
     "output_type": "stream",
     "text": [
      "  (0, 0)\t0.4082483\n",
      "  (1, 1)\t0.70710677\n",
      "  (2, 2)\t0.4472136\n",
      "  (3, 3)\t0.5\n",
      "  (4, 4)\t0.70710677\n",
      "  (5, 5)\t0.57735026\n",
      "  (6, 6)\t0.57735026\n",
      "  (7, 7)\t0.70710677\n",
      "  (8, 8)\t0.4082483\n",
      "  (9, 9)\t0.4472136\n",
      "  (10, 10)\t0.4082483\n",
      "  (11, 11)\t0.57735026\n",
      "  (12, 12)\t0.57735026\n",
      "  (13, 13)\t0.5\n",
      "  (14, 14)\t0.2236068\n",
      "  (15, 15)\t0.30151135\n",
      "  (16, 16)\t0.4472136\n",
      "  (17, 17)\t0.70710677\n",
      "  (18, 18)\t0.35355338\n",
      "  (19, 19)\t0.57735026\n",
      "  (20, 20)\t0.4082483\n",
      "  (21, 21)\t0.4472136\n",
      "  (22, 22)\t0.4082483\n",
      "  (23, 23)\t0.57735026\n",
      "  (24, 24)\t0.57735026\n",
      "  :\t:\n",
      "  (2683, 2683)\t0.4472136\n",
      "  (2684, 2684)\t0.70710677\n",
      "  (2685, 2685)\t0.57735026\n",
      "  (2686, 2686)\t0.5\n",
      "  (2687, 2687)\t0.5\n",
      "  (2688, 2688)\t0.4472136\n",
      "  (2689, 2689)\t0.57735026\n",
      "  (2690, 2690)\t0.57735026\n",
      "  (2691, 2691)\t0.70710677\n",
      "  (2692, 2692)\t0.5\n",
      "  (2693, 2693)\t0.70710677\n",
      "  (2694, 2694)\t0.4472136\n",
      "  (2695, 2695)\t0.5\n",
      "  (2696, 2696)\t0.4472136\n",
      "  (2697, 2697)\t0.4472136\n",
      "  (2698, 2698)\t0.5\n",
      "  (2699, 2699)\t0.70710677\n",
      "  (2700, 2700)\t0.57735026\n",
      "  (2701, 2701)\t0.57735026\n",
      "  (2702, 2702)\t0.57735026\n",
      "  (2703, 2703)\t0.5\n",
      "  (2704, 2704)\t0.57735026\n",
      "  (2705, 2705)\t0.4472136\n",
      "  (2706, 2706)\t0.4472136\n",
      "  (2707, 2707)\t0.5\n",
      "  (0, 0)\t0.16666667879725594\n",
      "  (0, 8)\t0.16666667879725594\n",
      "  (0, 14)\t0.09128709514657274\n",
      "  (0, 258)\t0.11785113237134937\n",
      "  (0, 435)\t0.16666667879725594\n",
      "  (0, 544)\t0.18257419029314548\n",
      "  (1, 1)\t0.4999999828857291\n",
      "  (1, 344)\t0.12499999572143228\n",
      "  (2, 2)\t0.1999999952104794\n",
      "  (2, 410)\t0.18257419029314548\n",
      "  (2, 471)\t0.1581138784091909\n",
      "  (2, 552)\t0.06819943435231757\n",
      "  (2, 565)\t0.05031545931958359\n",
      "  (3, 3)\t0.25\n",
      "  (3, 197)\t0.22360679507255554\n",
      "  (3, 463)\t0.20412415266036987\n",
      "  (3, 601)\t0.20412415266036987\n",
      "  (4, 4)\t0.4999999828857291\n",
      "  (4, 170)\t0.4082482761496564\n",
      "  (5, 5)\t0.33333332136784577\n",
      "  (5, 490)\t0.2041241380748282\n",
      "  (5, 2164)\t0.23570226474269873\n",
      "  (6, 6)\t0.33333332136784577\n",
      "  (6, 251)\t0.192450092011196\n",
      "  (6, 490)\t0.2041241380748282\n",
      "  :\t:\n",
      "  (2701, 2701)\t0.33333332136784577\n",
      "  (2702, 881)\t0.14907119430171534\n",
      "  (2702, 2624)\t0.2041241380748282\n",
      "  (2702, 2702)\t0.33333332136784577\n",
      "  (2703, 1221)\t0.25\n",
      "  (2703, 1409)\t0.1767766922712326\n",
      "  (2703, 2200)\t0.22360679507255554\n",
      "  (2703, 2703)\t0.25\n",
      "  (2704, 209)\t0.28867512941360474\n",
      "  (2704, 2407)\t0.33333332136784577\n",
      "  (2704, 2704)\t0.33333332136784577\n",
      "  (2705, 1784)\t0.1490712011577049\n",
      "  (2705, 1839)\t0.22360679507255554\n",
      "  (2705, 1840)\t0.25819888202132546\n",
      "  (2705, 2216)\t0.22360679507255554\n",
      "  (2705, 2705)\t0.1999999952104794\n",
      "  (2706, 1046)\t0.18257419029314548\n",
      "  (2706, 1138)\t0.16903084614948405\n",
      "  (2706, 1640)\t0.16903084614948405\n",
      "  (2706, 1752)\t0.3162277568183818\n",
      "  (2706, 2706)\t0.1999999952104794\n",
      "  (2707, 774)\t0.25\n",
      "  (2707, 1389)\t0.22360679507255554\n",
      "  (2707, 2344)\t0.3535533845424652\n",
      "  (2707, 2707)\t0.25\n"
     ]
    }
   ],
   "source": [
    "ids_ordered = {raw_id: order for order, raw_id in enumerate(raw_node_ids)} #実際のノードIDを0から節点数-1に対応付け\n",
    "#print(ids_ordered)\n",
    "raw_edges_data = np.genfromtxt('/content/drive/My Drive/Colab Notebooks/cora.cites', dtype=\"int32\")\n",
    "#print(raw_edges_data)\n",
    "edges = np.array(list(map(ids_ordered.get, raw_edges_data.flatten())), dtype='int32').reshape(raw_edges_data.shape) # 実際のノードIDを変換. reshapeでデータ構造を元の枝ファイルと同様に変更．\n",
    "#print(edges)\n",
    "\n",
    "adj = sparse.coo_matrix((np.ones(edges.shape[0]), (edges[:, 0], edges[:, 1])),\n",
    "                        shape=(labels_enumerated.shape[0], labels_enumerated.shape[0]),\n",
    "                        dtype=np.float32)\n",
    "#print(adj)\n",
    "\n",
    "adj = adj + adj.T.multiply(adj.T > adj) #隣接行列を対象に変更 (つまり，無向グラフに変換)\n",
    "#print(adj)\n",
    "\n",
    "adj = adj + sparse.eye(adj.shape[0]) #対角成分に1を挿入\n",
    "\n",
    "node_degrees = np.array(adj.sum(1)) #列毎の総和を計算する（つまり，次数を計算する）\n",
    "#print(node_degrees)\n",
    "\n",
    "node_degrees = np.power(node_degrees, -0.5).flatten()\n",
    "#print(node_degrees)\n",
    "\n",
    "degree_matrix = sparse.diags(node_degrees, dtype=np.float32)\n",
    "print(degree_matrix)\n",
    "\n",
    "adj = degree_matrix @ adj @ degree_matrix #行列の積を計算．\n",
    "#torch.spmm(degree_matrix,torch.spmm(adj,degree_matrix))\n",
    "\n",
    "print(adj)\n"
   ]
  },
  {
   "cell_type": "markdown",
   "metadata": {
    "id": "8OVmLBqGtQlU"
   },
   "source": [
    "torch用に変換．"
   ]
  },
  {
   "cell_type": "code",
   "execution_count": null,
   "metadata": {
    "id": "SnjJBhZuX0Ka"
   },
   "outputs": [],
   "source": [
    "\n",
    "features = torch.FloatTensor(node_features.toarray())\n",
    "labels = torch.LongTensor(labels_enumerated)\n",
    "adj = torch.FloatTensor(np.array(adj.todense()))\n"
   ]
  },
  {
   "cell_type": "code",
   "execution_count": null,
   "metadata": {
    "colab": {
     "base_uri": "https://localhost:8080/"
    },
    "id": "YnC9YsmrGuK_",
    "outputId": "13fd6535-6896-4795-c34f-0ec1f301a819"
   },
   "outputs": [
    {
     "name": "stdout",
     "output_type": "stream",
     "text": [
      "tensor([[0., 0., 0.,  ..., 0., 0., 0.],\n",
      "        [0., 0., 0.,  ..., 0., 0., 0.],\n",
      "        [0., 0., 0.,  ..., 0., 0., 0.],\n",
      "        ...,\n",
      "        [0., 0., 0.,  ..., 0., 0., 0.],\n",
      "        [0., 0., 0.,  ..., 0., 0., 0.],\n",
      "        [0., 0., 0.,  ..., 0., 0., 0.]])\n",
      "tensor([2, 5, 3,  ..., 6, 4, 2])\n",
      "tensor([[0.1667, 0.0000, 0.0000,  ..., 0.0000, 0.0000, 0.0000],\n",
      "        [0.0000, 0.5000, 0.0000,  ..., 0.0000, 0.0000, 0.0000],\n",
      "        [0.0000, 0.0000, 0.2000,  ..., 0.0000, 0.0000, 0.0000],\n",
      "        ...,\n",
      "        [0.0000, 0.0000, 0.0000,  ..., 0.2000, 0.0000, 0.0000],\n",
      "        [0.0000, 0.0000, 0.0000,  ..., 0.0000, 0.2000, 0.0000],\n",
      "        [0.0000, 0.0000, 0.0000,  ..., 0.0000, 0.0000, 0.2500]])\n",
      "[[ 163  402]\n",
      " [ 163  659]\n",
      " [ 163 1696]\n",
      " ...\n",
      " [1887 2258]\n",
      " [1902 1887]\n",
      " [ 837 1686]]\n"
     ]
    }
   ],
   "source": [
    "print(features)\n",
    "print(labels)\n",
    "print(adj)\n",
    "print(edges)"
   ]
  },
  {
   "cell_type": "markdown",
   "metadata": {
    "id": "vEQNIZqib0ui"
   },
   "source": [
    "# 学習準備"
   ]
  },
  {
   "cell_type": "markdown",
   "metadata": {
    "id": "eds0p180uaAN"
   },
   "source": [
    "訓練 (train data)，開発 (validation data)，検証データ(test data)の準備．\n",
    "データの分割方法は様々な方法があるが，ここでは訓練データはラベル毎に固定数個を用いて，開発と検証データは残りからランダムに抽出．各データに**重複がない**ようにする必要がある．"
   ]
  },
  {
   "cell_type": "code",
   "execution_count": null,
   "metadata": {
    "id": "7wIusQFtG00L"
   },
   "outputs": [],
   "source": [
    "num_classes = int(labels.max().item() + 1) #ラベル数を定義．グラフでは，ラベルをクラスと言うことも多い．\n",
    "train_size_per_class=20 #ラベル毎の訓練データ数．合計の訓練データ量は 7 * 20 = 140データ\n",
    "validation_size=500 #開発データ数\n",
    "test_size=1000 #テストデータ数\n",
    "classes = [ind for ind in range(num_classes)]\n",
    "train_set = []\n",
    "\n",
    "# Construct train set (indices) out of 20 samples per each class\n",
    "for class_label in classes:\n",
    "    target_indices = torch.nonzero(labels == class_label, as_tuple=False).tolist() #ラベルがclass_labelsであるデータを抽出\n",
    "    train_set += [ind[0] for ind in target_indices[:train_size_per_class]] #先頭からtrain_size_per_classまでのデータのインデックスを追加\n",
    "\n",
    "\n",
    "# Extract the remaining samples\n",
    "validation_test_set = [ind for ind in range(len(labels)) if ind not in train_set] #訓練データに含まれていないデータのインデックスを抽出\n",
    "# Split the remaining samples into validation/test set\n",
    "validation_set = validation_test_set[:validation_size] #先頭からvalidation_size番目までのデータのインデックスを開発データとして抽出\n",
    "test_set = validation_test_set[validation_size:validation_size+test_size] #validation_sizeからvalidation_size+test_size番目までのデータのインデックスを検証データとして抽出"
   ]
  },
  {
   "cell_type": "markdown",
   "metadata": {
    "id": "O0c4eoO0uk3r"
   },
   "source": [
    "モデルの設定．"
   ]
  },
  {
   "cell_type": "code",
   "execution_count": null,
   "metadata": {
    "id": "1Xuz5n-sK4Ft"
   },
   "outputs": [],
   "source": [
    "dropout=0.2\n",
    "use_bias=False\n",
    "hidden_dim=32\n",
    "model = GCN(features.shape[1], hidden_dim,num_classes, dropout, use_bias) #GCNのモデルを設定\n",
    "#model = MLP(features.shape[1], hidden_dim,num_classes, dropout)"
   ]
  },
  {
   "cell_type": "code",
   "execution_count": null,
   "metadata": {
    "id": "5sf7t7i5K73R"
   },
   "outputs": [],
   "source": [
    "if torch.cuda.is_available(): #cudaが使えるなら，GPUで処理\n",
    "  model.cuda()\n",
    "  adj = adj.cuda()\n",
    "  features = features.cuda()\n",
    "  labels = labels.cuda()\n",
    "\n",
    "optimizer = torch.optim.Adam(model.parameters(), lr=0.0001, weight_decay=0.0001) #learning rateとweight decayは適当に決定．\n",
    "criterion = nn.CrossEntropyLoss()\n"
   ]
  },
  {
   "cell_type": "markdown",
   "metadata": {
    "id": "w9zp0tugChKa"
   },
   "source": [
    "精度計算用の関数"
   ]
  },
  {
   "cell_type": "code",
   "execution_count": null,
   "metadata": {
    "id": "nNfairSCM19b"
   },
   "outputs": [],
   "source": [
    "def accuracy(output, labels):\n",
    "    y_pred = output.max(1)[1].type_as(labels)\n",
    "    correct = y_pred.eq(labels).double()\n",
    "    correct = correct.sum()\n",
    "    return correct / len(labels)"
   ]
  },
  {
   "cell_type": "code",
   "execution_count": null,
   "metadata": {
    "id": "Z8HemhGbsoBM"
   },
   "outputs": [],
   "source": []
  },
  {
   "cell_type": "markdown",
   "metadata": {
    "id": "Ku5lP2rAb8zk"
   },
   "source": [
    "# モデル学習"
   ]
  },
  {
   "cell_type": "code",
   "execution_count": null,
   "metadata": {
    "colab": {
     "base_uri": "https://localhost:8080/"
    },
    "id": "0bFqbXUgL_He",
    "outputId": "49a51a1b-14bc-406d-e1b6-bbae91c9a7b6"
   },
   "outputs": [
    {
     "name": "stdout",
     "output_type": "stream",
     "text": [
      "Epoch:    0 | Train loss: 1.951 | Train acc: 0.19 | Val loss: 1.955 | Val acc: 0.14\n",
      "Epoch:   10 | Train loss: 1.931 | Train acc: 0.26 | Val loss: 1.946 | Val acc: 0.15\n",
      "Epoch:   20 | Train loss: 1.909 | Train acc: 0.34 | Val loss: 1.937 | Val acc: 0.23\n",
      "Epoch:   30 | Train loss: 1.894 | Train acc: 0.47 | Val loss: 1.925 | Val acc: 0.31\n",
      "Epoch:   40 | Train loss: 1.866 | Train acc: 0.57 | Val loss: 1.910 | Val acc: 0.39\n",
      "Epoch:   50 | Train loss: 1.851 | Train acc: 0.63 | Val loss: 1.900 | Val acc: 0.43\n",
      "Epoch:   60 | Train loss: 1.822 | Train acc: 0.73 | Val loss: 1.887 | Val acc: 0.47\n",
      "Epoch:   70 | Train loss: 1.795 | Train acc: 0.78 | Val loss: 1.870 | Val acc: 0.52\n",
      "Epoch:   80 | Train loss: 1.767 | Train acc: 0.81 | Val loss: 1.851 | Val acc: 0.57\n",
      "Epoch:   90 | Train loss: 1.743 | Train acc: 0.82 | Val loss: 1.835 | Val acc: 0.57\n",
      "Epoch:  100 | Train loss: 1.710 | Train acc: 0.83 | Val loss: 1.812 | Val acc: 0.61\n",
      "Epoch:  110 | Train loss: 1.681 | Train acc: 0.86 | Val loss: 1.794 | Val acc: 0.67\n",
      "Epoch:  120 | Train loss: 1.648 | Train acc: 0.86 | Val loss: 1.775 | Val acc: 0.67\n",
      "Epoch:  130 | Train loss: 1.616 | Train acc: 0.87 | Val loss: 1.747 | Val acc: 0.69\n",
      "Epoch:  140 | Train loss: 1.575 | Train acc: 0.89 | Val loss: 1.721 | Val acc: 0.71\n",
      "Epoch:  150 | Train loss: 1.543 | Train acc: 0.90 | Val loss: 1.702 | Val acc: 0.71\n",
      "Epoch:  160 | Train loss: 1.520 | Train acc: 0.90 | Val loss: 1.686 | Val acc: 0.72\n",
      "Epoch:  170 | Train loss: 1.484 | Train acc: 0.91 | Val loss: 1.661 | Val acc: 0.71\n",
      "Epoch:  180 | Train loss: 1.444 | Train acc: 0.90 | Val loss: 1.634 | Val acc: 0.72\n",
      "Epoch:  190 | Train loss: 1.411 | Train acc: 0.90 | Val loss: 1.620 | Val acc: 0.72\n",
      "Epoch:  200 | Train loss: 1.388 | Train acc: 0.92 | Val loss: 1.596 | Val acc: 0.73\n",
      "Epoch:  210 | Train loss: 1.349 | Train acc: 0.90 | Val loss: 1.573 | Val acc: 0.74\n",
      "Epoch:  220 | Train loss: 1.318 | Train acc: 0.93 | Val loss: 1.565 | Val acc: 0.73\n",
      "Epoch:  230 | Train loss: 1.293 | Train acc: 0.91 | Val loss: 1.539 | Val acc: 0.74\n",
      "Epoch:  240 | Train loss: 1.252 | Train acc: 0.91 | Val loss: 1.516 | Val acc: 0.74\n",
      "Epoch:  250 | Train loss: 1.244 | Train acc: 0.91 | Val loss: 1.499 | Val acc: 0.73\n",
      "Epoch:  260 | Train loss: 1.204 | Train acc: 0.93 | Val loss: 1.474 | Val acc: 0.74\n",
      "Epoch:  270 | Train loss: 1.185 | Train acc: 0.91 | Val loss: 1.457 | Val acc: 0.75\n",
      "Epoch:  280 | Train loss: 1.153 | Train acc: 0.94 | Val loss: 1.435 | Val acc: 0.75\n",
      "Epoch:  290 | Train loss: 1.123 | Train acc: 0.92 | Val loss: 1.423 | Val acc: 0.76\n",
      "Total training time: 1.13 seconds\n"
     ]
    }
   ],
   "source": [
    "maxepoch=300\n",
    "use_early_stopping=False\n",
    "patience=30\n",
    "\n",
    "validation_acc_list = []\n",
    "validation_loss_list = []\n",
    "train_acc_list=[]\n",
    "train_loss_list=[]\n",
    "\n",
    "if use_early_stopping:\n",
    "    last_min_val_loss = float('inf')\n",
    "    patience_counter = 0\n",
    "    stopped_early = False\n",
    "\n",
    "t_start = time.time()\n",
    "\n",
    "for epoch in range(maxepoch):\n",
    "    optimizer.zero_grad()\n",
    "    model.train()\n",
    "\n",
    "    y_pred = model(features, adj)\n",
    "\n",
    "    train_loss = criterion(y_pred[train_set], labels[train_set])\n",
    "    train_acc = accuracy(y_pred[train_set], labels[train_set])\n",
    "    train_loss.backward()\n",
    "    optimizer.step()\n",
    "\n",
    "    train_loss_list.append(train_loss.item()) #train_lossはtorch tensor型なので，lossの値のみitem()で取得\n",
    "    train_acc_list.append(train_acc.item())\n",
    "\n",
    "    with torch.no_grad():\n",
    "        model.eval()\n",
    "        val_loss = criterion(y_pred[validation_set], labels[validation_set])\n",
    "        val_acc = accuracy(y_pred[validation_set], labels[validation_set])\n",
    "\n",
    "        validation_loss_list.append(val_loss.item())\n",
    "        validation_acc_list.append(val_acc.item())\n",
    "\n",
    "        if use_early_stopping:\n",
    "            if val_loss < last_min_val_loss: #最小のlossを更新したら\n",
    "                last_min_val_loss = val_loss\n",
    "                patience_counter = 0\n",
    "            else:\n",
    "                patience_counter += 1\n",
    "                if patience_counter == patience: #最小のlossをpatience回連続で更新しなければ終了\n",
    "                    stopped_early = True\n",
    "                    t_end = time.time()\n",
    "\n",
    "    if epoch%10 == 0: #10行毎に出力\n",
    "      print(\" | \".join([f\"Epoch: {epoch:4d}\", f\"Train loss: {train_loss.item():.3f}\",\n",
    "                      f\"Train acc: {train_acc:.2f}\",\n",
    "                      f\"Val loss: {val_loss.item():.3f}\",\n",
    "                      f\"Val acc: {val_acc:.2f}\"]))\n",
    "\n",
    "    if use_early_stopping and stopped_early:\n",
    "        break\n",
    "\n",
    "if use_early_stopping and stopped_early:\n",
    "    print(f\"EARLY STOPPING condition met. Stopped at epoch: {epoch}.\")\n",
    "else:\n",
    "    t_end = time.time()\n",
    "\n",
    "print(f\"Total training time: {t_end-t_start:.2f} seconds\")"
   ]
  },
  {
   "cell_type": "markdown",
   "metadata": {
    "id": "DG5BGRp4cLgi"
   },
   "source": [
    "# テスト精度の検証"
   ]
  },
  {
   "cell_type": "code",
   "execution_count": null,
   "metadata": {
    "colab": {
     "base_uri": "https://localhost:8080/"
    },
    "id": "9kvWbCGINmAw",
    "outputId": "7901e7d7-c492-47f1-b154-069a3f077355"
   },
   "outputs": [
    {
     "name": "stdout",
     "output_type": "stream",
     "text": [
      "Test loss: 1.474  |  Test acc: 0.74\n"
     ]
    }
   ],
   "source": [
    "criterion = nn.CrossEntropyLoss()\n",
    "\n",
    "with torch.no_grad():\n",
    "    model.eval()\n",
    "    y_pred = model(features, adj)\n",
    "    test_loss = criterion(y_pred[test_set], labels[test_set])\n",
    "    test_acc = accuracy(y_pred[test_set], labels[test_set])\n",
    "\n",
    "print(f\"Test loss: {test_loss:.3f}  |  Test acc: {test_acc:.2f}\")"
   ]
  },
  {
   "cell_type": "markdown",
   "metadata": {
    "id": "vMA7lOEAcDc9"
   },
   "source": [
    "# 結果の描画"
   ]
  },
  {
   "cell_type": "markdown",
   "metadata": {
    "id": "NaXWl1RicW57"
   },
   "source": [
    "まずは，訓練データのロスと精度，開発データのロスと精度がエポック毎にどのように変化してるか見てみましょう．"
   ]
  },
  {
   "cell_type": "code",
   "execution_count": null,
   "metadata": {
    "colab": {
     "base_uri": "https://localhost:8080/",
     "height": 377
    },
    "id": "eCEK7TbxOA22",
    "outputId": "df638c95-861e-48a2-cf30-df70dc9c39a0"
   },
   "outputs": [
    {
     "data": {
      "image/png": "[encoded data removed]",
      "text/plain": [
       "<Figure size 936x396 with 2 Axes>"
      ]
     },
     "metadata": {
      "filenames": {
       "image/png": "C:\\Users\\az_fo\\JupyterBook\\GraphDojo\\_build\\jupyter_execute\\code\\GCN_36_0.png"
      },
      "needs_background": "light"
     },
     "output_type": "display_data"
    }
   ],
   "source": [
    "f, axs = plt.subplots(1, 2, figsize=(13, 5.5))\n",
    "axs[0].plot(validation_loss_list, linewidth=2, color=\"red\")\n",
    "axs[0].plot(train_loss_list, linewidth=2, color=\"blue\")\n",
    "axs[0].set_title(\"Cross Entropy Loss\")\n",
    "axs[0].set_ylabel(\"Cross Entropy Loss\")\n",
    "axs[0].set_xlabel(\"Epoch\")\n",
    "axs[0].grid()\n",
    "\n",
    "axs[1].plot(validation_acc_list, linewidth=2, color=\"red\")\n",
    "axs[1].plot(train_acc_list, linewidth=2, color=\"blue\")\n",
    "axs[1].set_title(\"Accuracy\")\n",
    "axs[1].set_ylabel(\"Acc\")\n",
    "axs[1].set_xlabel(\"Epoch\")\n",
    "axs[1].grid()\n",
    "\n",
    "plt.show()"
   ]
  },
  {
   "cell_type": "markdown",
   "metadata": {
    "id": "WRTnoxpacqlK"
   },
   "source": [
    "学習後のfeatureがラベルごとにかたまっている見てみましょう．\n",
    "ここでは，tSNEを用いて多次元データを2次元に落とし込んで可視化をします．"
   ]
  },
  {
   "cell_type": "code",
   "execution_count": null,
   "metadata": {
    "colab": {
     "base_uri": "https://localhost:8080/",
     "height": 333
    },
    "id": "euPocBI0QXXh",
    "outputId": "b6960a22-525b-44e9-b8dc-6524bbef90dc"
   },
   "outputs": [
    {
     "name": "stderr",
     "output_type": "stream",
     "text": [
      "/usr/local/lib/python3.8/dist-packages/sklearn/manifold/_t_sne.py:780: FutureWarning: The default initialization in TSNE will change from 'random' to 'pca' in 1.2.\n",
      "  warnings.warn(\n",
      "/usr/local/lib/python3.8/dist-packages/sklearn/manifold/_t_sne.py:790: FutureWarning: The default learning rate in TSNE will change from 200.0 to 'auto' in 1.2.\n",
      "  warnings.warn(\n"
     ]
    },
    {
     "data": {
      "image/png": "[encoded data removed]",
      "text/plain": [
       "<Figure size 432x288 with 1 Axes>"
      ]
     },
     "metadata": {
      "filenames": {
       "image/png": "C:\\Users\\az_fo\\JupyterBook\\GraphDojo\\_build\\jupyter_execute\\code\\GCN_38_1.png"
      },
      "needs_background": "light"
     },
     "output_type": "display_data"
    }
   ],
   "source": [
    "cora_label_to_color_map = {0: \"red\", 1: \"blue\", 2: \"green\",\n",
    "                           3: \"orange\", 4: \"yellow\", 5: \"pink\", 6: \"gray\"} #識別性を高めるために，ラベルごとに色を固定化．coraのラベル数が7のため，0 から 6にそれぞれ色を割り当てる．\n",
    "\n",
    "\n",
    "#%config InlineBackend.figure_format = 'retina' #画像の画質を向上したい場合，コメントアウト\n",
    "\n",
    "node_labels = labels.cpu().numpy()\n",
    "out_features = y_pred.cpu().numpy()\n",
    "t_sne_embeddings = TSNE(n_components=2, perplexity=30, method='barnes_hut').fit_transform(out_features)\n",
    "\n",
    "plt.figure()\n",
    "for class_id in range(num_classes):\n",
    "    plt.scatter(t_sne_embeddings[node_labels == class_id, 0],\n",
    "                t_sne_embeddings[node_labels == class_id, 1], s=20,\n",
    "                color=cora_label_to_color_map[class_id],\n",
    "                edgecolors='black', linewidths=0.15)\n",
    "\n",
    "plt.axis(\"off\")\n",
    "plt.title(\"Visualizing t-SNE\")\n",
    "plt.show()"
   ]
  },
  {
   "cell_type": "markdown",
   "metadata": {
    "id": "At30xnU-GbUN"
   },
   "source": [
    "# 課題"
   ]
  },
  {
   "cell_type": "markdown",
   "metadata": {
    "id": "hM7EOLSmGlFJ"
   },
   "source": [
    "**1. GCNではなくMLPをモデルとするように変更してください．**"
   ]
  },
  {
   "cell_type": "markdown",
   "metadata": {
    "id": "tZQi6yHYpasw"
   },
   "source": [
    "2層のMLPモデルは下記になります．埋め込んでみましょう．"
   ]
  },
  {
   "cell_type": "code",
   "execution_count": null,
   "metadata": {
    "id": "4e3wFVr5pR1h"
   },
   "outputs": [],
   "source": [
    "class MLP (nn.Module):\n",
    "    def __init__(self, node_features, hidden_dim, num_classes, dropout):\n",
    "        super(MLP, self).__init__()\n",
    "        self.fc1 = nn.Linear(node_features, hidden_dim)   \n",
    "        self.fc2 = nn.Linear(hidden_dim, num_classes)\n",
    "        self.dropout1 = nn.Dropout2d(dropout)\n",
    "        \n",
    "    def forward(self, x):\n",
    "        x = F.relu(self.fc1(x))\n",
    "        x = self.dropout1(x)\n",
    "        return F.relu(self.fc2(x))"
   ]
  },
  {
   "cell_type": "markdown",
   "metadata": {
    "id": "bpgeVKODpi8F"
   },
   "source": [
    "MLPをモデルとして設定して，呼び出してみましょう．下記を適切な場所に埋め込んでください．"
   ]
  },
  {
   "cell_type": "code",
   "execution_count": null,
   "metadata": {
    "colab": {
     "base_uri": "https://localhost:8080/",
     "height": 309
    },
    "id": "mm9tG0wTpMjF",
    "outputId": "77a07491-6d04-4dba-c22a-d2bf4852bfc6"
   },
   "outputs": [
    {
     "ename": "TypeError",
     "evalue": "ignored",
     "output_type": "error",
     "traceback": [
      "\u001b[0;31m---------------------------------------------------------------------------\u001b[0m",
      "\u001b[0;31mTypeError\u001b[0m                                 Traceback (most recent call last)",
      "\u001b[0;32m<ipython-input-67-4b6eb9a227b6>\u001b[0m in \u001b[0;36m<module>\u001b[0;34m\u001b[0m\n\u001b[1;32m      1\u001b[0m \u001b[0mmodel\u001b[0m \u001b[0;34m=\u001b[0m \u001b[0mMLP\u001b[0m\u001b[0;34m(\u001b[0m\u001b[0mfeatures\u001b[0m\u001b[0;34m.\u001b[0m\u001b[0mshape\u001b[0m\u001b[0;34m[\u001b[0m\u001b[0;36m1\u001b[0m\u001b[0;34m]\u001b[0m\u001b[0;34m,\u001b[0m \u001b[0mhidden_dim\u001b[0m\u001b[0;34m,\u001b[0m\u001b[0mnum_classes\u001b[0m\u001b[0;34m,\u001b[0m \u001b[0mdropout\u001b[0m\u001b[0;34m)\u001b[0m\u001b[0;34m\u001b[0m\u001b[0;34m\u001b[0m\u001b[0m\n\u001b[0;32m----> 2\u001b[0;31m \u001b[0my_pred\u001b[0m \u001b[0;34m=\u001b[0m \u001b[0mmodel\u001b[0m\u001b[0;34m(\u001b[0m\u001b[0mfeatures\u001b[0m\u001b[0;34m,\u001b[0m \u001b[0madj\u001b[0m\u001b[0;34m)\u001b[0m\u001b[0;34m\u001b[0m\u001b[0;34m\u001b[0m\u001b[0m\n\u001b[0m",
      "\u001b[0;32m/usr/local/lib/python3.8/dist-packages/torch/nn/modules/module.py\u001b[0m in \u001b[0;36m_call_impl\u001b[0;34m(self, *input, **kwargs)\u001b[0m\n\u001b[1;32m   1192\u001b[0m         if not (self._backward_hooks or self._forward_hooks or self._forward_pre_hooks or _global_backward_hooks\n\u001b[1;32m   1193\u001b[0m                 or _global_forward_hooks or _global_forward_pre_hooks):\n\u001b[0;32m-> 1194\u001b[0;31m             \u001b[0;32mreturn\u001b[0m \u001b[0mforward_call\u001b[0m\u001b[0;34m(\u001b[0m\u001b[0;34m*\u001b[0m\u001b[0minput\u001b[0m\u001b[0;34m,\u001b[0m \u001b[0;34m**\u001b[0m\u001b[0mkwargs\u001b[0m\u001b[0;34m)\u001b[0m\u001b[0;34m\u001b[0m\u001b[0;34m\u001b[0m\u001b[0m\n\u001b[0m\u001b[1;32m   1195\u001b[0m         \u001b[0;31m# Do not call functions when jit is used\u001b[0m\u001b[0;34m\u001b[0m\u001b[0;34m\u001b[0m\u001b[0;34m\u001b[0m\u001b[0m\n\u001b[1;32m   1196\u001b[0m         \u001b[0mfull_backward_hooks\u001b[0m\u001b[0;34m,\u001b[0m \u001b[0mnon_full_backward_hooks\u001b[0m \u001b[0;34m=\u001b[0m \u001b[0;34m[\u001b[0m\u001b[0;34m]\u001b[0m\u001b[0;34m,\u001b[0m \u001b[0;34m[\u001b[0m\u001b[0;34m]\u001b[0m\u001b[0;34m\u001b[0m\u001b[0;34m\u001b[0m\u001b[0m\n",
      "\u001b[0;31mTypeError\u001b[0m: forward() takes 2 positional arguments but 3 were given"
     ]
    }
   ],
   "source": [
    "model = MLP(features.shape[1], hidden_dim,num_classes, dropout)\n",
    "y_pred = model(features, adj)"
   ]
  },
  {
   "cell_type": "markdown",
   "metadata": {
    "id": "RKMukqVFpqGs"
   },
   "source": [
    "MLPとGCNの精度を比較して，隣接節点の情報を使うとどのくらい精度が上がるのか確認しましょう．"
   ]
  },
  {
   "cell_type": "markdown",
   "metadata": {
    "id": "0MT3IbnFG57B"
   },
   "source": [
    "**2. GCN layerの総数を1から4に変更して，予測精度の変化を確認してください．**\n",
    "\n"
   ]
  },
  {
   "cell_type": "markdown",
   "metadata": {
    "id": "EeFdEt3KqAwV"
   },
   "source": [
    "class GCN(nn.Module)を変更するだけで，総数を変更できます．"
   ]
  },
  {
   "cell_type": "markdown",
   "metadata": {
    "id": "MWLM40GeG93r"
   },
   "source": [
    "**3. t-SNEの可視化を10エポック毎に行い，featureの変化を確認してください．その際，t-SNEの可視化処理を関数化するとわかりやすいです．**"
   ]
  },
  {
   "cell_type": "markdown",
   "metadata": {
    "id": "PVGjJqXMqggc"
   },
   "source": [
    "下記の関数を活用して，可視化を行いましょう．"
   ]
  },
  {
   "cell_type": "code",
   "execution_count": null,
   "metadata": {
    "id": "rT8TZhqxHOmw"
   },
   "outputs": [],
   "source": [
    "def visualize_embedding_tSNE(labels, y_pred, num_classes):\n",
    "\n",
    "    cora_label_to_color_map = {0: \"red\", 1: \"blue\", 2: \"green\", 3: \"orange\", 4: \"yellow\", 5: \"pink\", 6: \"gray\"}\n",
    "\n",
    "    node_labels = labels.cpu().numpy()\n",
    "    out_features = y_pred.detach().cpu().numpy()\n",
    "    t_sne_embeddings = TSNE(n_components=2, perplexity=30, method='barnes_hut').fit_transform(out_features)\n",
    "\n",
    "    plt.figure()\n",
    "    for class_id in range(num_classes):\n",
    "        plt.scatter(t_sne_embeddings[node_labels == class_id, 0],\n",
    "                    t_sne_embeddings[node_labels == class_id, 1], s=20,\n",
    "                    color=cora_label_to_color_map[class_id],\n",
    "                    edgecolors='black', linewidths=0.15)\n",
    "\n",
    "    plt.axis(\"off\")\n",
    "    plt.title(\"Visualizing t-SNE\")\n",
    "    plt.show()"
   ]
  }
 ],
 "metadata": {
  "accelerator": "GPU",
  "colab": {
   "provenance": []
  },
  "gpuClass": "standard",
  "kernelspec": {
   "display_name": "Python 3 (ipykernel)",
   "language": "python",
   "name": "python3"
  },
  "language_info": {
   "codemirror_mode": {
    "name": "ipython",
    "version": 3
   },
   "file_extension": ".py",
   "mimetype": "text/x-python",
   "name": "python",
   "nbconvert_exporter": "python",
   "pygments_lexer": "ipython3",
   "version": "3.9.7"
  }
 },
 "nbformat": 4,
 "nbformat_minor": 1
}